{
 "cells": [
  {
   "cell_type": "code",
   "execution_count": 36,
   "metadata": {},
   "outputs": [],
   "source": [
    "from unittest import main\n",
    "import numpy as np"
   ]
  },
  {
   "cell_type": "code",
   "execution_count": 37,
   "metadata": {},
   "outputs": [
    {
     "data": {
      "text/plain": [
       "{'mean': [[array([3.66666667, 5.        , 3.        ]),\n",
       "   array([3.33333333, 4.        , 4.33333333]),\n",
       "   3.888888888888889]],\n",
       " 'variance': [[array([9.55555556, 0.66666667, 8.66666667]),\n",
       "   array([ 3.55555556, 10.66666667,  6.22222222]),\n",
       "   6.987654320987654]],\n",
       " 'standard deviation': [[array([3.09120617, 0.81649658, 2.94392029]),\n",
       "   array([1.88561808, 3.26598632, 2.49443826]),\n",
       "   2.6434171674156266]],\n",
       " 'max': [[array([8, 6, 7]), array([6, 8, 7]), 8]],\n",
       " 'min': [[array([1, 4, 0]), array([2, 0, 1]), 0]],\n",
       " 'sum': [[array([11, 15,  9]), array([10, 12, 13]), 35]]}"
      ]
     },
     "execution_count": 37,
     "metadata": {},
     "output_type": "execute_result"
    }
   ],
   "source": [
    "def calculate(list):\n",
    "    if len(list) != 9:\n",
    "        raise ValueError(\"List must have 9 numbers\")\n",
    "    \n",
    "    calculations = {}\n",
    "    array = np.array(list).reshape(3,3)\n",
    "    \n",
    "    mean = []\n",
    "    mean.append(array.mean(axis=0))\n",
    "    mean.append(array.mean(axis=1))\n",
    "    mean.append(array.mean())\n",
    "    calculations['mean'] = [mean]\n",
    "\n",
    "    variance = []\n",
    "    variance.append(array.var(axis=0))\n",
    "    variance.append(array.var(axis=1))\n",
    "    variance.append(array.var())\n",
    "    calculations['variance'] = [variance]\n",
    "\n",
    "    deviation = []\n",
    "    deviation.append(array.std(axis=0))\n",
    "    deviation.append(array.std(axis=1))\n",
    "    deviation.append(array.std())\n",
    "    calculations['standard deviation'] = [deviation]\n",
    "    \n",
    "    max = []\n",
    "    max.append(array.max(axis=0))\n",
    "    max.append(array.max(axis=1))\n",
    "    max.append(array.max())\n",
    "    calculations['max'] = [max]\n",
    "\n",
    "    min = []\n",
    "    min.append(array.min(axis=0))\n",
    "    min.append(array.min(axis=1))\n",
    "    min.append(array.min())\n",
    "    calculations['min'] = [min]\n",
    "\n",
    "    sum = []\n",
    "    sum.append(array.sum(axis=0))\n",
    "    sum.append(array.sum(axis=1))\n",
    "    sum.append(array.sum())\n",
    "    calculations['sum'] = [sum]\n",
    "\n",
    "    return calculations\n",
    "\n",
    "calculate([2,6,2,8,4,0,1,5,7])"
   ]
  }
 ],
 "metadata": {
  "kernelspec": {
   "display_name": "Python 3",
   "language": "python",
   "name": "python3"
  },
  "language_info": {
   "codemirror_mode": {
    "name": "ipython",
    "version": 3
   },
   "file_extension": ".py",
   "mimetype": "text/x-python",
   "name": "python",
   "nbconvert_exporter": "python",
   "pygments_lexer": "ipython3",
   "version": "3.10.5"
  },
  "orig_nbformat": 4
 },
 "nbformat": 4,
 "nbformat_minor": 2
}
