{
 "cells": [
  {
   "cell_type": "code",
   "execution_count": 3,
   "metadata": {},
   "outputs": [],
   "source": [
    "from unittest import main\n",
    "import numpy as np"
   ]
  },
  {
   "cell_type": "code",
   "execution_count": 18,
   "metadata": {},
   "outputs": [
    {
     "data": {
      "text/plain": [
       "{'mean': [[3.6666666666666665, 5.0, 3.0],\n",
       "  [3.3333333333333335, 4.0, 4.333333333333333],\n",
       "  3.888888888888889],\n",
       " 'variance': [[9.555555555555557, 0.6666666666666666, 8.666666666666666],\n",
       "  [3.555555555555556, 10.666666666666666, 6.222222222222221],\n",
       "  6.987654320987654],\n",
       " 'standard deviation': [[3.091206165165235,\n",
       "   0.816496580927726,\n",
       "   2.943920288775949],\n",
       "  [1.8856180831641267, 3.265986323710904, 2.494438257849294],\n",
       "  2.6434171674156266],\n",
       " 'max': [[8, 6, 7], [6, 8, 7], 8],\n",
       " 'min': [[1, 4, 0], [2, 0, 1], 0],\n",
       " 'sum': [[11, 15, 9], [10, 12, 13], 35]}"
      ]
     },
     "execution_count": 18,
     "metadata": {},
     "output_type": "execute_result"
    }
   ],
   "source": [
    "def calculate(list):\n",
    "    if len(list) != 9:\n",
    "        raise ValueError(\"List must contain nine numbers.\")\n",
    "    \n",
    "    calculations = {}\n",
    "    array = np.array(list).reshape(3,3)\n",
    "    \n",
    "    mean = []\n",
    "    mean.append(array.mean(axis=0).tolist())\n",
    "    mean.append(array.mean(axis=1).tolist())\n",
    "    mean.append(array.mean())\n",
    "    calculations['mean'] = mean\n",
    "\n",
    "    variance = []\n",
    "    variance.append(array.var(axis=0).tolist())\n",
    "    variance.append(array.var(axis=1).tolist())\n",
    "    variance.append(array.var())\n",
    "    calculations['variance'] = variance\n",
    "\n",
    "    deviation = []\n",
    "    deviation.append(array.std(axis=0).tolist())\n",
    "    deviation.append(array.std(axis=1).tolist())\n",
    "    deviation.append(array.std())\n",
    "    calculations['standard deviation'] = deviation\n",
    "    \n",
    "    max = []\n",
    "    max.append(array.max(axis=0).tolist())\n",
    "    max.append(array.max(axis=1).tolist())\n",
    "    max.append(array.max())\n",
    "    calculations['max'] = max\n",
    "\n",
    "    min = []\n",
    "    min.append(array.min(axis=0).tolist())\n",
    "    min.append(array.min(axis=1).tolist())\n",
    "    min.append(array.min())\n",
    "    calculations['min'] = min\n",
    "\n",
    "    sum = []\n",
    "    sum.append(array.sum(axis=0).tolist())\n",
    "    sum.append(array.sum(axis=1).tolist())\n",
    "    sum.append(array.sum())\n",
    "    calculations['sum'] = sum\n",
    "\n",
    "    return calculations\n",
    "\n",
    "calculate([2,6,2,8,4,0,1,5,7])"
   ]
  },
  {
   "cell_type": "code",
   "execution_count": 19,
   "metadata": {},
   "outputs": [
    {
     "name": "stderr",
     "output_type": "stream",
     "text": [
      "test_calculate (__main__.UnitTests) ... ok\n",
      "test_calculate2 (__main__.UnitTests) ... ok\n",
      "test_calculate_with_few_digits (__main__.UnitTests) ... ok\n",
      "\n",
      "----------------------------------------------------------------------\n",
      "Ran 3 tests in 0.004s\n",
      "\n",
      "OK\n"
     ]
    },
    {
     "data": {
      "text/plain": [
       "<unittest.main.TestProgram at 0x2947fb016c0>"
      ]
     },
     "execution_count": 19,
     "metadata": {},
     "output_type": "execute_result"
    }
   ],
   "source": [
    "import unittest\n",
    "\n",
    "# the test case\n",
    "class UnitTests(unittest.TestCase):\n",
    "    def test_calculate(self):\n",
    "        actual = calculate([2,6,2,8,4,0,1,5,7])\n",
    "        expected = {'mean': [[3.6666666666666665, 5.0, 3.0], [3.3333333333333335, 4.0, 4.333333333333333], 3.888888888888889], 'variance': [[9.555555555555557, 0.6666666666666666, 8.666666666666666], [3.555555555555556, 10.666666666666666, 6.222222222222221], 6.987654320987654], 'standard deviation': [[3.091206165165235, 0.816496580927726, 2.943920288775949], [1.8856180831641267, 3.265986323710904, 2.494438257849294], 2.6434171674156266], 'max': [[8, 6, 7], [6, 8, 7], 8], 'min': [[1, 4, 0], [2, 0, 1], 0], 'sum': [[11, 15, 9], [10, 12, 13], 35]}\n",
    "        self.assertAlmostEqual(actual, expected, \"Expected different output when calling 'calculate()' with '[2,6,2,8,4,0,1,5,7]'\")\n",
    "\n",
    "    def test_calculate2(self):\n",
    "        actual = calculate([9,1,5,3,3,3,2,9,0])\n",
    "        expected = {'mean': [[4.666666666666667, 4.333333333333333, 2.6666666666666665], [5.0, 3.0, 3.6666666666666665], 3.888888888888889], 'variance': [[9.555555555555555, 11.555555555555557, 4.222222222222222], [10.666666666666666, 0.0, 14.888888888888891], 9.209876543209875], 'standard deviation': [[3.0912061651652345, 3.39934634239519, 2.0548046676563256], [3.265986323710904, 0.0, 3.8586123009300755], 3.0347778408328137], 'max': [[9, 9, 5], [9, 3, 9], 9], 'min': [[2, 1, 0], [1, 3, 0], 0], 'sum': [[14, 13, 8], [15, 9, 11], 35]}\n",
    "        self.assertAlmostEqual(actual, expected, \"Expected different output when calling 'calculate()' with '[9,1,5,3,3,3,2,9,0]'\")\n",
    "    \n",
    "    def test_calculate_with_few_digits(self):\n",
    "        self.assertRaisesRegex(ValueError, \"List must contain nine numbers.\", calculate, [2,6,2,8,4,0,1,])\n",
    "\n",
    "unittest.main(argv=[''], verbosity=2, exit=False)"
   ]
  }
 ],
 "metadata": {
  "kernelspec": {
   "display_name": "Python 3",
   "language": "python",
   "name": "python3"
  },
  "language_info": {
   "codemirror_mode": {
    "name": "ipython",
    "version": 3
   },
   "file_extension": ".py",
   "mimetype": "text/x-python",
   "name": "python",
   "nbconvert_exporter": "python",
   "pygments_lexer": "ipython3",
   "version": "3.10.5"
  },
  "orig_nbformat": 4
 },
 "nbformat": 4,
 "nbformat_minor": 2
}
